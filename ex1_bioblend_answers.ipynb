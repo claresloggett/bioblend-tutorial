{
 "metadata": {
  "name": ""
 },
 "nbformat": 3,
 "nbformat_minor": 0,
 "worksheets": [
  {
   "cells": [
    {
     "cell_type": "markdown",
     "metadata": {},
     "source": [
      "Exercise 1 - Answers for BioBlend\n",
      "=================================\n",
      "\n",
      "**Goal**: Upload a file to a new history, import a workflow and run it on the upload dataset.\n",
      "\n",
      "1) Create a `GalaxyInstance` object."
     ]
    },
    {
     "cell_type": "code",
     "collapsed": false,
     "input": [
      "import bioblend.galaxy\n",
      "\n",
      "server = 'https://usegalaxy.org/'\n",
      "api_key = ''\n",
      "gi = bioblend.galaxy.GalaxyInstance(url=server, key=api_key)"
     ],
     "language": "python",
     "metadata": {},
     "outputs": [],
     "prompt_number": 2
    },
    {
     "cell_type": "markdown",
     "metadata": {},
     "source": [
      "2) Create a new Galaxy history."
     ]
    },
    {
     "cell_type": "code",
     "collapsed": false,
     "input": [
      "new_hist = gi.histories.create_history(name='New history')"
     ],
     "language": "python",
     "metadata": {},
     "outputs": [],
     "prompt_number": 3
    },
    {
     "cell_type": "code",
     "collapsed": false,
     "input": [
      "new_hist"
     ],
     "language": "python",
     "metadata": {},
     "outputs": [
      {
       "metadata": {},
       "output_type": "pyout",
       "prompt_number": 4,
       "text": [
        "{u'annotation': None,\n",
        " u'contents_url': u'/api/histories/d6c3d171b0753878/contents',\n",
        " u'create_time': u'2015-07-01T15:49:36.461865',\n",
        " u'deleted': False,\n",
        " u'empty': True,\n",
        " u'genome_build': None,\n",
        " u'id': u'd6c3d171b0753878',\n",
        " u'importable': False,\n",
        " u'model_class': u'History',\n",
        " u'name': u'New history',\n",
        " u'nice_size': u'0 bytes',\n",
        " u'published': False,\n",
        " u'purged': False,\n",
        " u'size': 0,\n",
        " u'slug': None,\n",
        " u'state': u'new',\n",
        " u'state_details': {u'discarded': 0,\n",
        "  u'empty': 0,\n",
        "  u'error': 0,\n",
        "  u'failed_metadata': 0,\n",
        "  u'new': 0,\n",
        "  u'ok': 0,\n",
        "  u'paused': 0,\n",
        "  u'queued': 0,\n",
        "  u'running': 0,\n",
        "  u'setting_metadata': 0,\n",
        "  u'upload': 0},\n",
        " u'state_ids': {u'discarded': [],\n",
        "  u'empty': [],\n",
        "  u'error': [],\n",
        "  u'failed_metadata': [],\n",
        "  u'new': [],\n",
        "  u'ok': [],\n",
        "  u'paused': [],\n",
        "  u'queued': [],\n",
        "  u'running': [],\n",
        "  u'setting_metadata': [],\n",
        "  u'upload': []},\n",
        " u'tags': [],\n",
        " u'update_time': u'2015-07-01T15:49:36.461876',\n",
        " u'url': u'/api/histories/d6c3d171b0753878',\n",
        " u'user_id': u'1c510fef372551ec',\n",
        " u'username_and_slug': None}"
       ]
      }
     ],
     "prompt_number": 4
    },
    {
     "cell_type": "markdown",
     "metadata": {},
     "source": [
      "3) **Upload** the local file \"~/bioblend-tutorial/test-data/1.txt\" to a new dataset using `tools.upload_file()` ."
     ]
    },
    {
     "cell_type": "code",
     "collapsed": false,
     "input": [
      "import os\n",
      "ret = gi.tools.upload_file(os.path.join(os.environ['HOME'], \"bioblend-tutorial/test-data/1.txt\"), new_hist['id'])\n",
      "ret"
     ],
     "language": "python",
     "metadata": {},
     "outputs": [
      {
       "metadata": {},
       "output_type": "pyout",
       "prompt_number": 19,
       "text": [
        "{u'implicit_collections': [],\n",
        " u'jobs': [{u'create_time': u'2015-07-02T09:58:53.032361',\n",
        "   u'exit_code': None,\n",
        "   u'id': u'74982d6b2ce49109',\n",
        "   u'model_class': u'Job',\n",
        "   u'state': u'new',\n",
        "   u'tool_id': u'upload1',\n",
        "   u'update_time': u'2015-07-02T09:58:53.815807'}],\n",
        " u'output_collections': [],\n",
        " u'outputs': [{u'create_time': u'2015-07-02T09:58:51.934823',\n",
        "   u'data_type': u'galaxy.datatypes.data.Text',\n",
        "   u'deleted': False,\n",
        "   u'file_ext': u'auto',\n",
        "   u'file_size': 0,\n",
        "   u'genome_build': u'?',\n",
        "   u'hda_ldda': u'hda',\n",
        "   u'hid': 5,\n",
        "   u'history_content_type': u'dataset',\n",
        "   u'history_id': u'd6c3d171b0753878',\n",
        "   u'id': u'bbd44e69cb8906b5eb8ea80fad6ccac6',\n",
        "   u'metadata_data_lines': None,\n",
        "   u'metadata_dbkey': u'?',\n",
        "   u'misc_blurb': None,\n",
        "   u'misc_info': None,\n",
        "   u'model_class': u'HistoryDatasetAssociation',\n",
        "   u'name': u'1.txt',\n",
        "   u'output_name': u'output0',\n",
        "   u'peek': u'<table cellspacing=\"0\" cellpadding=\"3\"></table>',\n",
        "   u'purged': False,\n",
        "   u'state': u'queued',\n",
        "   u'tags': [],\n",
        "   u'update_time': u'2015-07-02T09:58:52.866611',\n",
        "   u'uuid': u'0cd29c32-6226-45b4-a07f-7e5f21876967',\n",
        "   u'visible': True}]}"
       ]
      }
     ],
     "prompt_number": 19
    },
    {
     "cell_type": "markdown",
     "metadata": {},
     "source": [
      "4) Find the new uploaded dataset, either from the dict returned by `tools.upload_file()` or from the history contents."
     ]
    },
    {
     "cell_type": "code",
     "collapsed": false,
     "input": [
      "hda = ret['outputs'][0]\n",
      "hda"
     ],
     "language": "python",
     "metadata": {},
     "outputs": [
      {
       "metadata": {},
       "output_type": "pyout",
       "prompt_number": 21,
       "text": [
        "{u'create_time': u'2015-07-02T09:58:51.934823',\n",
        " u'data_type': u'galaxy.datatypes.data.Text',\n",
        " u'deleted': False,\n",
        " u'file_ext': u'auto',\n",
        " u'file_size': 0,\n",
        " u'genome_build': u'?',\n",
        " u'hda_ldda': u'hda',\n",
        " u'hid': 5,\n",
        " u'history_content_type': u'dataset',\n",
        " u'history_id': u'd6c3d171b0753878',\n",
        " u'id': u'bbd44e69cb8906b5eb8ea80fad6ccac6',\n",
        " u'metadata_data_lines': None,\n",
        " u'metadata_dbkey': u'?',\n",
        " u'misc_blurb': None,\n",
        " u'misc_info': None,\n",
        " u'model_class': u'HistoryDatasetAssociation',\n",
        " u'name': u'1.txt',\n",
        " u'output_name': u'output0',\n",
        " u'peek': u'<table cellspacing=\"0\" cellpadding=\"3\"></table>',\n",
        " u'purged': False,\n",
        " u'state': u'queued',\n",
        " u'tags': [],\n",
        " u'update_time': u'2015-07-02T09:58:52.866611',\n",
        " u'uuid': u'0cd29c32-6226-45b4-a07f-7e5f21876967',\n",
        " u'visible': True}"
       ]
      }
     ],
     "prompt_number": 21
    },
    {
     "cell_type": "markdown",
     "metadata": {},
     "source": [
      "5) **Import a workflow** from the local file \"~/bioblend-tutorial/test-data/convert_to_tab.ga\" using `workflows.import_workflow_from_local_path()` ."
     ]
    },
    {
     "cell_type": "code",
     "collapsed": false,
     "input": [
      "wf = gi.workflows.import_workflow_from_local_path(os.path.join(os.environ['HOME'], 'bioblend-tutorial/test-data/convert_to_tab.ga'))\n",
      "wf"
     ],
     "language": "python",
     "metadata": {},
     "outputs": [
      {
       "metadata": {},
       "output_type": "pyout",
       "prompt_number": 16,
       "text": [
        "{u'deleted': False,\n",
        " u'id': u'56294642eefefffe',\n",
        " u'latest_workflow_uuid': u'814e6545-db9e-4dc0-b9c4-1c0f9ed68910',\n",
        " u'model_class': u'StoredWorkflow',\n",
        " u'name': u'Convert to tab (imported from API)',\n",
        " u'published': False,\n",
        " u'tags': [],\n",
        " u'url': u'/api/workflows/56294642eefefffe'}"
       ]
      }
     ],
     "prompt_number": 16
    },
    {
     "cell_type": "markdown",
     "metadata": {},
     "source": [
      "6) View the details of the imported workflow using `workflows.show_workflow()` ."
     ]
    },
    {
     "cell_type": "code",
     "collapsed": false,
     "input": [
      "gi.workflows.show_workflow(wf['id'])"
     ],
     "language": "python",
     "metadata": {},
     "outputs": [
      {
       "metadata": {},
       "output_type": "pyout",
       "prompt_number": 17,
       "text": [
        "{u'annotation': None,\n",
        " u'deleted': False,\n",
        " u'id': u'56294642eefefffe',\n",
        " u'inputs': {u'1800206': {u'label': u'Input Dataset', u'value': u''}},\n",
        " u'latest_workflow_uuid': u'814e6545-db9e-4dc0-b9c4-1c0f9ed68910',\n",
        " u'model_class': u'StoredWorkflow',\n",
        " u'name': u'Convert to tab (imported from API)',\n",
        " u'owner': u'nsoranzo',\n",
        " u'published': False,\n",
        " u'steps': {u'1800206': {u'annotation': None,\n",
        "   u'id': 1800206,\n",
        "   u'input_steps': {},\n",
        "   u'tool_id': None,\n",
        "   u'tool_inputs': {u'name': u'Input Dataset'},\n",
        "   u'tool_version': None,\n",
        "   u'type': u'data_input'},\n",
        "  u'1800207': {u'annotation': None,\n",
        "   u'id': 1800207,\n",
        "   u'input_steps': {u'input': {u'source_step': 1800206,\n",
        "     u'step_output': u'output'}},\n",
        "   u'tool_id': u'Convert characters1',\n",
        "   u'tool_inputs': {u'condense': u'\"True\"',\n",
        "    u'convert_from': u'\"s\"',\n",
        "    u'input': u'null',\n",
        "    u'strip': u'\"True\"'},\n",
        "   u'tool_version': u'1.0.0',\n",
        "   u'type': u'tool'}},\n",
        " u'tags': [],\n",
        " u'url': u'/api/workflows/56294642eefefffe'}"
       ]
      }
     ],
     "prompt_number": 17
    },
    {
     "cell_type": "markdown",
     "metadata": {},
     "source": [
      "7) **Run** the imported workflow on the uploaded dataset **inside the same history** using `workflows.run_workflow()` ."
     ]
    },
    {
     "cell_type": "code",
     "collapsed": false,
     "input": [
      "dataset_map = {1800206: {'id': hda['id'], 'src': 'hda'}}\n",
      "ret = gi.workflows.run_workflow(wf['id'], dataset_map=dataset_map, history_id=new_hist['id'])\n",
      "ret"
     ],
     "language": "python",
     "metadata": {},
     "outputs": [
      {
       "metadata": {},
       "output_type": "pyout",
       "prompt_number": 27,
       "text": [
        "{u'history': u'd6c3d171b0753878',\n",
        " u'history_id': u'd6c3d171b0753878',\n",
        " u'id': u'1bc2d7e08ce5c495',\n",
        " u'inputs': {u'0': {u'id': u'bbd44e69cb8906b5eb8ea80fad6ccac6',\n",
        "   u'src': u'hda'}},\n",
        " u'model_class': u'WorkflowInvocation',\n",
        " u'outputs': [u'bbd44e69cb8906b5d4e9925df5a32a5f'],\n",
        " u'state': u'scheduled',\n",
        " u'steps': [{u'action': None,\n",
        "   u'id': u'3936b28f08565e33',\n",
        "   u'job_id': None,\n",
        "   u'model_class': u'WorkflowInvocationStep',\n",
        "   u'order_index': 0,\n",
        "   u'state': None,\n",
        "   u'update_time': u'2015-07-02T10:08:03.153484',\n",
        "   u'workflow_step_id': u'37b077d173b2aef4'},\n",
        "  {u'action': None,\n",
        "   u'id': u'c458c6174ff31d71',\n",
        "   u'job_id': u'471766a0ef1e5f73',\n",
        "   u'model_class': u'WorkflowInvocationStep',\n",
        "   u'order_index': 1,\n",
        "   u'state': u'new',\n",
        "   u'update_time': u'2015-07-02T10:08:03.133458',\n",
        "   u'workflow_step_id': u'6a568a77f2b6aaa0'}],\n",
        " u'update_time': u'2015-07-02T10:08:03.100197',\n",
        " u'uuid': u'37779756-20a2-11e5-8b3c-005056a51846',\n",
        " u'workflow_id': u'93fc4c1fdfd32dd1'}"
       ]
      }
     ],
     "prompt_number": 27
    },
    {
     "cell_type": "markdown",
     "metadata": {},
     "source": [
      "8) View the results on the Galaxy server with your web browser."
     ]
    }
   ],
   "metadata": {}
  }
 ]
}