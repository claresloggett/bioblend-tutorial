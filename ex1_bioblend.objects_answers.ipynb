{
 "metadata": {
  "name": ""
 },
 "nbformat": 3,
 "nbformat_minor": 0,
 "worksheets": [
  {
   "cells": [
    {
     "cell_type": "markdown",
     "metadata": {},
     "source": [
      "Exercise 1 - Answers for BioBlend.objects\n",
      "=========================================\n",
      "\n",
      "**Goal**: Upload a file to a new history, import a workflow and run it on the upload dataset.\n",
      "\n",
      "1) Create a `GalaxyInstance` object."
     ]
    },
    {
     "cell_type": "code",
     "collapsed": false,
     "input": [
      "import bioblend.galaxy.objects\n",
      "\n",
      "server = 'https://usegalaxy.org/'\n",
      "api_key = ''\n",
      "gi = bioblend.galaxy.objects.GalaxyInstance(url=server, api_key=api_key)"
     ],
     "language": "python",
     "metadata": {},
     "outputs": [],
     "prompt_number": 1
    },
    {
     "cell_type": "markdown",
     "metadata": {},
     "source": [
      "2) Create a new Galaxy history."
     ]
    },
    {
     "cell_type": "code",
     "collapsed": false,
     "input": [
      "new_hist = gi.histories.create(name='New history')\n",
      "new_hist"
     ],
     "language": "python",
     "metadata": {},
     "outputs": [
      {
       "metadata": {},
       "output_type": "pyout",
       "prompt_number": 3,
       "text": [
        "History({u'importable': False, u'create_time': u'2015-07-02T11:04:17.100787', u'contents_url': u'/api/histories/effec70bec8ba12c/contents', u'id': u'effec70bec8ba12c', u'size': 0, u'user_id': u'1c510fef372551ec', u'username_and_slug': None, u'annotation': None, u'state_details': {u'paused': 0, u'ok': 0, u'failed_metadata': 0, u'upload': 0, u'discarded': 0, u'running': 0, u'setting_metadata': 0, u'error': 0, u'new': 0, u'queued': 0, u'empty': 0}, u'state': u'new', u'empty': True, u'update_time': u'2015-07-02T11:04:17.100798', u'tags': [], u'deleted': False, u'genome_build': None, u'nice_size': u'0 bytes', u'slug': None, u'name': u'New history', u'url': u'/api/histories/effec70bec8ba12c', u'state_ids': {u'paused': [], u'ok': [], u'failed_metadata': [], u'upload': [], u'discarded': [], u'running': [], u'setting_metadata': [], u'error': [], u'new': [], u'queued': [], u'empty': []}, u'published': False, u'model_class': u'History', u'purged': False})"
       ]
      }
     ],
     "prompt_number": 3
    },
    {
     "cell_type": "markdown",
     "metadata": {},
     "source": [
      "3) **Upload** the local file \"~/bioblend-tutorial/test-data/1.txt\" to a new dataset using the `upload_file()` method of `History` objects."
     ]
    },
    {
     "cell_type": "code",
     "collapsed": false,
     "input": [
      "import os\n",
      "hda = new_hist.upload_file(os.path.join(os.environ['HOME'], \"bioblend-tutorial/test-data/1.txt\"))\n",
      "hda"
     ],
     "language": "python",
     "metadata": {},
     "outputs": [
      {
       "metadata": {},
       "output_type": "pyout",
       "prompt_number": 5,
       "text": [
        "HistoryDatasetAssociation({u'accessible': True, u'type_id': u'dataset-bbd44e69cb8906b544479115d78d7a93', u'resubmitted': False, u'create_time': u'2015-07-02T11:10:57.626465', u'file_size': 0, u'dataset_id': u'bbd44e69cb8906b5333417f7e7c6ca91', u'id': u'bbd44e69cb8906b544479115d78d7a93', u'misc_info': None, u'hda_ldda': u'hda', u'download_url': u'/api/histories/effec70bec8ba12c/contents/bbd44e69cb8906b544479115d78d7a93/display', u'state': u'queued', u'display_types': [], u'display_apps': [], u'metadata_dbkey': u'?', u'type': u'file', u'misc_blurb': None, u'peek': None, u'update_time': u'2015-07-02T11:10:58.012411', u'data_type': u'galaxy.datatypes.data.Text', u'tags': [], u'deleted': False, u'history_id': u'effec70bec8ba12c', u'meta_files': [], u'genome_build': u'?', u'hid': 2, u'model_class': u'HistoryDatasetAssociation', u'metadata_data_lines': None, u'file_ext': u'auto', u'annotation': None, u'permissions': {}, u'history_content_type': u'dataset', u'name': u'1.txt', u'extension': u'auto', u'visible': True, u'url': u'/api/histories/effec70bec8ba12c/contents/bbd44e69cb8906b544479115d78d7a93', u'uuid': u'ce22754d-7b10-431a-b22a-f4864870aa00', u'visualizations': [], u'purged': False, u'api_type': u'file'})"
       ]
      }
     ],
     "prompt_number": 5
    },
    {
     "cell_type": "markdown",
     "metadata": {},
     "source": [
      "4) Please note that with BioBlend.objects there is no need to find the upload dataset, since `upload_file()` already returns a `HistoryDatasetAssociation` object."
     ]
    },
    {
     "cell_type": "markdown",
     "metadata": {},
     "source": [
      "5) **Import a workflow** from the local file \"~/bioblend-tutorial/test-data/convert_to_tab.ga\" using `workflows.import_new()` ."
     ]
    },
    {
     "cell_type": "code",
     "collapsed": false,
     "input": [
      "with open(os.path.join(os.environ['HOME'], 'bioblend-tutorial/test-data/convert_to_tab.ga'), 'r') as f:\n",
      "    wf_string = f.read()\n",
      "wf = gi.workflows.import_new(wf_string)\n",
      "wf"
     ],
     "language": "python",
     "metadata": {},
     "outputs": [
      {
       "metadata": {},
       "output_type": "pyout",
       "prompt_number": 6,
       "text": [
        "Workflow({u'inputs': {u'1800680': {u'value': u'', u'label': u'Input Dataset'}}, u'name': u'Convert to tab (imported from API)', u'tags': [], u'deleted': False, u'latest_workflow_uuid': u'814e6545-db9e-4dc0-b9c4-1c0f9ed68910', u'annotation': None, u'url': u'/api/workflows/ded3d1839e696d64', u'steps': {u'1800680': Step({u'tool_id': None, u'tool_version': None, u'annotation': None, u'input_steps': {}, u'tool_inputs': {u'name': u'Input Dataset'}, u'type': u'data_input', u'id': u'1800680'}), u'1800681': Step({u'tool_id': u'Convert characters1', u'tool_version': u'1.0.0', u'annotation': None, u'input_steps': {u'input': {u'step_output': u'output', u'source_step': u'1800680'}}, u'tool_inputs': {u'input': None, u'convert_from': u's', u'condense': u'True', u'strip': u'True'}, u'type': u'tool', u'id': u'1800681'})}, u'published': False, u'owner': u'nsoranzo', u'model_class': u'StoredWorkflow', u'id': u'ded3d1839e696d64'})"
       ]
      }
     ],
     "prompt_number": 6
    },
    {
     "cell_type": "markdown",
     "metadata": {},
     "source": [
      "6) View the workflow input labels."
     ]
    },
    {
     "cell_type": "code",
     "collapsed": false,
     "input": [
      "wf.input_labels"
     ],
     "language": "python",
     "metadata": {},
     "outputs": [
      {
       "metadata": {},
       "output_type": "pyout",
       "prompt_number": 12,
       "text": [
        "{u'Input Dataset'}"
       ]
      }
     ],
     "prompt_number": 12
    },
    {
     "cell_type": "markdown",
     "metadata": {},
     "source": [
      "7) **Run** the imported workflow on the uploaded dataset **inside the same history** using the `run()` method of `Workflow` objects."
     ]
    },
    {
     "cell_type": "code",
     "collapsed": false,
     "input": [
      "input_map = {'Input Dataset': hda}\n",
      "ret = wf.run(input_map=input_map, history=new_hist)\n",
      "ret"
     ],
     "language": "python",
     "metadata": {},
     "outputs": [
      {
       "metadata": {},
       "output_type": "pyout",
       "prompt_number": 14,
       "text": [
        "([HistoryDatasetAssociation({u'accessible': True, u'type_id': u'dataset-bbd44e69cb8906b50e45a3912d4c471e', u'resubmitted': False, u'create_time': u'2015-07-02T15:35:38.073851', u'file_size': 0, u'dataset_id': u'bbd44e69cb8906b522410530cb31d9b0', u'id': u'bbd44e69cb8906b50e45a3912d4c471e', u'misc_info': None, u'hda_ldda': u'hda', u'download_url': u'/api/histories/effec70bec8ba12c/contents/bbd44e69cb8906b50e45a3912d4c471e/display', u'state': u'queued', u'metadata_comment_lines': None, u'display_types': [], u'display_apps': [], u'metadata_dbkey': u'?', u'type': u'file', u'metadata_column_types': None, u'misc_blurb': u'queued', u'peek': None, u'update_time': u'2015-07-02T15:35:39.120036', u'data_type': u'galaxy.datatypes.tabular.Tabular', u'tags': [], u'deleted': False, u'history_id': u'effec70bec8ba12c', u'metadata_column_names': None, u'meta_files': [], u'genome_build': u'?', u'hid': 3, u'model_class': u'HistoryDatasetAssociation', u'metadata_data_lines': None, u'file_ext': u'tabular', u'annotation': None, u'permissions': {}, u'history_content_type': u'dataset', u'name': u'Convert on data 2', u'extension': u'tabular', u'visible': True, u'url': u'/api/histories/effec70bec8ba12c/contents/bbd44e69cb8906b50e45a3912d4c471e', u'metadata_columns': None, u'uuid': u'36c9aa58-0fb8-4075-bf8b-e5416b6f3899', u'visualizations': [{u'href': u'/visualization/show/charts?dataset_id=bbd44e69cb8906b50e45a3912d4c471e', u'html': u'Charts', u'target': u'galaxy_main', u'embeddable': False}, {u'href': u'/visualization/show/scatterplot?dataset_id=bbd44e69cb8906b50e45a3912d4c471e', u'html': u'Scatterplot', u'target': u'galaxy_main', u'embeddable': False}], u'purged': False, u'api_type': u'file'})],\n",
        " History({u'importable': False, u'create_time': u'2015-07-02T11:04:17.100787', u'contents_url': u'/api/histories/effec70bec8ba12c/contents', u'id': u'effec70bec8ba12c', u'size': 32, u'user_id': u'1c510fef372551ec', u'username_and_slug': None, u'annotation': None, u'state_details': {u'paused': 0, u'ok': 2, u'failed_metadata': 0, u'upload': 0, u'discarded': 0, u'running': 0, u'setting_metadata': 0, u'error': 0, u'new': 0, u'queued': 1, u'empty': 0}, u'state': u'queued', u'empty': False, u'update_time': u'2015-07-02T15:35:38.834815', u'tags': [], u'deleted': False, u'genome_build': None, u'nice_size': u'32 bytes', u'slug': None, u'name': u'New history', u'url': u'/api/histories/effec70bec8ba12c', u'state_ids': {u'paused': [], u'ok': [u'bbd44e69cb8906b550f62a0227a2da04', u'bbd44e69cb8906b544479115d78d7a93'], u'failed_metadata': [], u'upload': [], u'discarded': [], u'running': [], u'setting_metadata': [], u'error': [], u'new': [], u'queued': [u'bbd44e69cb8906b50e45a3912d4c471e'], u'empty': []}, u'published': False, u'model_class': u'History', u'purged': False}))"
       ]
      }
     ],
     "prompt_number": 14
    },
    {
     "cell_type": "markdown",
     "metadata": {},
     "source": [
      "8) View the results on the Galaxy server with your web browser."
     ]
    }
   ],
   "metadata": {}
  }
 ]
}