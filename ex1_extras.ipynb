{
 "metadata": {
  "name": ""
 },
 "nbformat": 3,
 "nbformat_minor": 0,
 "worksheets": [
  {
   "cells": [
    {
     "cell_type": "markdown",
     "metadata": {},
     "source": [
      "Exercise 1 - Extras\n",
      "===================\n",
      "\n",
      "If you have completed the exercise, you can try to perform these extra tasks with the help of the online documentation:\n",
      "\n",
      "1) Download the workflow result to your computer\n",
      "\n",
      "2) Publish your history"
     ]
    }
   ],
   "metadata": {}
  }
 ]
}