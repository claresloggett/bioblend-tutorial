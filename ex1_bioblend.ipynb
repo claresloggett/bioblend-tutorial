{
 "metadata": {
  "name": ""
 },
 "nbformat": 3,
 "nbformat_minor": 0,
 "worksheets": [
  {
   "cells": [
    {
     "cell_type": "markdown",
     "metadata": {},
     "source": [
      "Exercise 1 - BioBlend\n",
      "=====================\n",
      "\n",
      "**Goal**: Upload a file to a new history, import a workflow and run it on the upload dataset.\n",
      "\n",
      "1) Create a `GalaxyInstance` object."
     ]
    },
    {
     "cell_type": "code",
     "collapsed": false,
     "input": [],
     "language": "python",
     "metadata": {},
     "outputs": []
    },
    {
     "cell_type": "markdown",
     "metadata": {},
     "source": [
      "2) Create a new Galaxy history."
     ]
    },
    {
     "cell_type": "code",
     "collapsed": false,
     "input": [],
     "language": "python",
     "metadata": {},
     "outputs": []
    },
    {
     "cell_type": "markdown",
     "metadata": {},
     "source": [
      "3) **Upload** the local file \"~/bioblend-tutorial/test-data/1.txt\" to a new dataset in the created history using `tools.upload_file()` ."
     ]
    },
    {
     "cell_type": "code",
     "collapsed": false,
     "input": [],
     "language": "python",
     "metadata": {},
     "outputs": []
    },
    {
     "cell_type": "markdown",
     "metadata": {},
     "source": [
      "4) Find the new uploaded dataset, either from the dict returned by `tools.upload_file()` or from the history contents."
     ]
    },
    {
     "cell_type": "code",
     "collapsed": false,
     "input": [],
     "language": "python",
     "metadata": {},
     "outputs": []
    },
    {
     "cell_type": "markdown",
     "metadata": {},
     "source": [
      "5) **Import a workflow** from the local file \"~/bioblend-tutorial/test-data/convert_to_tab.ga\" using `workflows.import_workflow_from_local_path()` ."
     ]
    },
    {
     "cell_type": "code",
     "collapsed": false,
     "input": [],
     "language": "python",
     "metadata": {},
     "outputs": []
    },
    {
     "cell_type": "markdown",
     "metadata": {},
     "source": [
      "6) View the details of the imported workflow using `workflows.show_workflow()` ."
     ]
    },
    {
     "cell_type": "code",
     "collapsed": false,
     "input": [],
     "language": "python",
     "metadata": {},
     "outputs": []
    },
    {
     "cell_type": "markdown",
     "metadata": {},
     "source": [
      "7) **Run** the imported workflow on the uploaded dataset **inside the same history** using `workflows.run_workflow()` ."
     ]
    },
    {
     "cell_type": "code",
     "collapsed": false,
     "input": [],
     "language": "python",
     "metadata": {},
     "outputs": []
    },
    {
     "cell_type": "markdown",
     "metadata": {},
     "source": [
      "8) View the results on the Galaxy server with your web browser."
     ]
    }
   ],
   "metadata": {}
  }
 ]
}