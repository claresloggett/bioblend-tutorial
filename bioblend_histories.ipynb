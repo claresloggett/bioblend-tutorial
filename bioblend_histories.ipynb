{
 "cells": [
  {
   "cell_type": "markdown",
   "metadata": {},
   "source": [
    "Interacting with histories in BioBlend\n",
    "======================================\n",
    "\n",
    "**You need to insert the API key for your Galaxy server in the cell below**: \n",
    "1. Open the Galaxy server in another browser tab\n",
    "2. Click on \"User\" on the top menu, then \"Preferences\"\n",
    "3. Click on \"Manage API key\"\n",
    "4. Generate an API key if needed, then copy the alphanumeric string and paste it as the value of the `api_key` variable below.\n",
    "\n",
    "The user interacts with a Galaxy server through a `GalaxyInstance` object:"
   ]
  },
  {
   "cell_type": "code",
   "execution_count": 1,
   "metadata": {},
   "outputs": [],
   "source": [
    "from __future__ import print_function\n",
    "\n",
    "import bioblend.galaxy\n",
    "\n",
    "server = 'https://usegalaxy.org/'\n",
    "api_key = ''\n",
    "gi = bioblend.galaxy.GalaxyInstance(url=server, key=api_key)"
   ]
  },
  {
   "cell_type": "markdown",
   "metadata": {},
   "source": [
    "The `GalaxyInstance` object gives you access to the various controllers, i.e. the resources you are dealing with, like `histories`, `tools` and `workflows`.\n",
    "Therefore, method calls will have the format `gi.controller.method()`. For example, the call to retrieve all histories owned by the current user is:"
   ]
  },
  {
   "cell_type": "code",
   "execution_count": 2,
   "metadata": {},
   "outputs": [
    {
     "data": {
      "text/plain": [
       "[{u'annotation': None,\n",
       "  u'deleted': False,\n",
       "  u'id': u'49e446c3d6585583',\n",
       "  u'model_class': u'History',\n",
       "  u'name': u'Unnamed history',\n",
       "  u'published': False,\n",
       "  u'purged': False,\n",
       "  u'tags': [],\n",
       "  u'url': u'/api/histories/49e446c3d6585583'}]"
      ]
     },
     "execution_count": 2,
     "metadata": {},
     "output_type": "execute_result"
    }
   ],
   "source": [
    "gi.histories.get_histories()"
   ]
  },
  {
   "cell_type": "markdown",
   "metadata": {},
   "source": [
    "As you can see, methods in BioBlend do not return JSON strings, but **deserialize** them into Python data structures. In particular, `get_` methods return a list of dictionaries.\n",
    "\n",
    "**New resources** are created with `create_` methods, e.g. the call to create a new history is:"
   ]
  },
  {
   "cell_type": "code",
   "execution_count": 15,
   "metadata": {},
   "outputs": [
    {
     "data": {
      "text/plain": [
       "{u'annotation': None,\n",
       " u'contents_url': u'/api/histories/b55e810e30ea30b6/contents',\n",
       " u'create_time': u'2019-06-28T11:19:28.472237',\n",
       " u'deleted': False,\n",
       " u'empty': True,\n",
       " u'genome_build': None,\n",
       " u'id': u'b55e810e30ea30b6',\n",
       " u'importable': False,\n",
       " u'model_class': u'History',\n",
       " u'name': u'BioBlend test',\n",
       " u'published': False,\n",
       " u'purged': False,\n",
       " u'size': 0,\n",
       " u'slug': None,\n",
       " u'state': u'new',\n",
       " u'state_details': {u'discarded': 0,\n",
       "  u'empty': 0,\n",
       "  u'error': 0,\n",
       "  u'failed_metadata': 0,\n",
       "  u'new': 0,\n",
       "  u'ok': 0,\n",
       "  u'paused': 0,\n",
       "  u'queued': 0,\n",
       "  u'running': 0,\n",
       "  u'setting_metadata': 0,\n",
       "  u'upload': 0},\n",
       " u'state_ids': {u'discarded': [],\n",
       "  u'empty': [],\n",
       "  u'error': [],\n",
       "  u'failed_metadata': [],\n",
       "  u'new': [],\n",
       "  u'ok': [],\n",
       "  u'paused': [],\n",
       "  u'queued': [],\n",
       "  u'running': [],\n",
       "  u'setting_metadata': [],\n",
       "  u'upload': []},\n",
       " u'tags': [],\n",
       " u'update_time': u'2019-06-28T11:19:28.472288',\n",
       " u'url': u'/api/histories/b55e810e30ea30b6',\n",
       " u'user_id': u'1c510fef372551ec',\n",
       " u'username_and_slug': None}"
      ]
     },
     "execution_count": 15,
     "metadata": {},
     "output_type": "execute_result"
    }
   ],
   "source": [
    "new_hist = gi.histories.create_history(name='BioBlend test')\n",
    "new_hist"
   ]
  },
  {
   "cell_type": "markdown",
   "metadata": {},
   "source": [
    "As you can see, to make POST requests in BioBlend it is **not necessary to serialize data**, you just pass them explicitly as parameters.\n",
    "\n",
    "`get_` methods usually have **filtering** capabilities, e.g. it is possible to filter histories **by name**:"
   ]
  },
  {
   "cell_type": "code",
   "execution_count": 17,
   "metadata": {},
   "outputs": [
    {
     "data": {
      "text/plain": [
       "[{u'annotation': None,\n",
       "  u'deleted': False,\n",
       "  u'id': u'b55e810e30ea30b6',\n",
       "  u'model_class': u'History',\n",
       "  u'name': u'BioBlend test',\n",
       "  u'published': False,\n",
       "  u'purged': False,\n",
       "  u'tags': [],\n",
       "  u'url': u'/api/histories/b55e810e30ea30b6'}]"
      ]
     },
     "execution_count": 17,
     "metadata": {},
     "output_type": "execute_result"
    }
   ],
   "source": [
    "gi.histories.get_histories(name='BioBlend test')"
   ]
  },
  {
   "cell_type": "markdown",
   "metadata": {},
   "source": [
    "It is also possible to specify the unique **id** of the resource to retrieve, e.g. to get back the history we created before:"
   ]
  },
  {
   "cell_type": "code",
   "execution_count": 13,
   "metadata": {},
   "outputs": [
    {
     "data": {
      "text/plain": [
       "[{u'annotation': None,\n",
       "  u'deleted': False,\n",
       "  u'id': u'b55e810e30ea30b6',\n",
       "  u'model_class': u'History',\n",
       "  u'name': u'BioBlend test',\n",
       "  u'published': False,\n",
       "  u'purged': False,\n",
       "  u'tags': [],\n",
       "  u'url': u'/api/histories/b55e810e30ea30b6'}]"
      ]
     },
     "execution_count": 13,
     "metadata": {},
     "output_type": "execute_result"
    }
   ],
   "source": [
    "hist_id = new_hist['id']\n",
    "gi.histories.get_histories(history_id=hist_id)"
   ]
  },
  {
   "cell_type": "markdown",
   "metadata": {},
   "source": [
    "Please note that independently of which parameters are passed to the `get_` method, it always returns a list."
   ]
  },
  {
   "cell_type": "markdown",
   "metadata": {},
   "source": [
    "To **upload** files to the new history, run the special upload tool by calling the `upload_file` method of the `tools` controller:"
   ]
  },
  {
   "cell_type": "code",
   "execution_count": 22,
   "metadata": {},
   "outputs": [
    {
     "data": {
      "text/plain": [
       "{u'implicit_collections': [],\n",
       " u'jobs': [{u'create_time': u'2019-06-30T23:21:28.822479',\n",
       "   u'exit_code': None,\n",
       "   u'history_id': u'b55e810e30ea30b6',\n",
       "   u'id': u'bbd44e69cb8906b5c6458d62abbfd3c5',\n",
       "   u'model_class': u'Job',\n",
       "   u'state': u'new',\n",
       "   u'tool_id': u'upload1',\n",
       "   u'update_time': u'2019-06-30T23:21:29.021174'}],\n",
       " u'output_collections': [],\n",
       " u'outputs': [{u'create_time': u'2019-06-30T23:21:28.648313',\n",
       "   u'data_type': u'galaxy.datatypes.data.Data',\n",
       "   u'deleted': False,\n",
       "   u'file_ext': u'auto',\n",
       "   u'file_size': 0,\n",
       "   u'genome_build': u'?',\n",
       "   u'hda_ldda': u'hda',\n",
       "   u'hid': 1,\n",
       "   u'history_content_type': u'dataset',\n",
       "   u'history_id': u'b55e810e30ea30b6',\n",
       "   u'id': u'bbd44e69cb8906b5cfdf2c899f4021a7',\n",
       "   u'metadata_dbkey': u'?',\n",
       "   u'misc_blurb': None,\n",
       "   u'misc_info': None,\n",
       "   u'model_class': u'HistoryDatasetAssociation',\n",
       "   u'name': u'1.txt',\n",
       "   u'output_name': u'output0',\n",
       "   u'peek': None,\n",
       "   u'purged': False,\n",
       "   u'state': u'queued',\n",
       "   u'tags': [],\n",
       "   u'update_time': u'2019-06-30T23:21:28.770852',\n",
       "   u'uuid': u'4b7d8f71-a66b-4c5d-8a86-9830931e99d3',\n",
       "   u'visible': True}]}"
      ]
     },
     "execution_count": 22,
     "metadata": {},
     "output_type": "execute_result"
    }
   ],
   "source": [
    "ret = gi.tools.upload_file('test-data/1.txt', hist_id)\n",
    "ret"
   ]
  },
  {
   "cell_type": "markdown",
   "metadata": {},
   "source": [
    "If you are interested in more **details** about a given resource, you can use the corresponding `show_` method. For example, to the get more info for the history we have just populated:"
   ]
  },
  {
   "cell_type": "code",
   "execution_count": 18,
   "metadata": {},
   "outputs": [
    {
     "data": {
      "text/plain": [
       "{u'annotation': None,\n",
       " u'contents_url': u'/api/histories/b55e810e30ea30b6/contents',\n",
       " u'create_time': u'2019-06-28T11:19:28.472237',\n",
       " u'deleted': False,\n",
       " u'empty': False,\n",
       " u'genome_build': None,\n",
       " u'id': u'b55e810e30ea30b6',\n",
       " u'importable': False,\n",
       " u'model_class': u'History',\n",
       " u'name': u'BioBlend test',\n",
       " u'published': False,\n",
       " u'purged': False,\n",
       " u'size': 16,\n",
       " u'slug': None,\n",
       " u'state': u'ok',\n",
       " u'state_details': {u'discarded': 0,\n",
       "  u'empty': 0,\n",
       "  u'error': 0,\n",
       "  u'failed_metadata': 0,\n",
       "  u'new': 0,\n",
       "  u'ok': 1,\n",
       "  u'paused': 0,\n",
       "  u'queued': 0,\n",
       "  u'running': 0,\n",
       "  u'setting_metadata': 0,\n",
       "  u'upload': 0},\n",
       " u'state_ids': {u'discarded': [],\n",
       "  u'empty': [],\n",
       "  u'error': [],\n",
       "  u'failed_metadata': [],\n",
       "  u'new': [],\n",
       "  u'ok': [u'bbd44e69cb8906b5cfdf2c899f4021a7'],\n",
       "  u'paused': [],\n",
       "  u'queued': [],\n",
       "  u'running': [],\n",
       "  u'setting_metadata': [],\n",
       "  u'upload': []},\n",
       " u'tags': [],\n",
       " u'update_time': u'2019-06-30T23:21:28.665234',\n",
       " u'url': u'/api/histories/b55e810e30ea30b6',\n",
       " u'user_id': u'1c510fef372551ec',\n",
       " u'username_and_slug': None}"
      ]
     },
     "execution_count": 23,
     "metadata": {},
     "output_type": "execute_result"
    }
   ],
   "source": [
    "gi.histories.show_history(history_id=hist_id)"
   ]
  },
  {
   "cell_type": "markdown",
   "metadata": {},
   "source": [
    "To get the list of **datasets contained** in a history, simply add `contents=True` to the previous call."
   ]
  },
  {
   "cell_type": "code",
   "execution_count": 20,
   "metadata": {},
   "outputs": [
    {
     "data": {
      "text/plain": [
       "[{u'create_time': u'2019-06-30T23:21:28.648313',\n",
       "  u'dataset_id': u'bbd44e69cb8906b5b8384b86fdab1170',\n",
       "  u'deleted': False,\n",
       "  u'extension': u'txt',\n",
       "  u'hid': 1,\n",
       "  u'history_content_type': u'dataset',\n",
       "  u'history_id': u'b55e810e30ea30b6',\n",
       "  u'id': u'bbd44e69cb8906b5cfdf2c899f4021a7',\n",
       "  u'name': u'1.txt',\n",
       "  u'purged': False,\n",
       "  u'state': u'ok',\n",
       "  u'tags': [],\n",
       "  u'type': u'file',\n",
       "  u'type_id': u'dataset-bbd44e69cb8906b5cfdf2c899f4021a7',\n",
       "  u'update_time': u'2019-06-30T23:22:01.976093',\n",
       "  u'url': u'/api/histories/b55e810e30ea30b6/contents/bbd44e69cb8906b5cfdf2c899f4021a7',\n",
       "  u'visible': True}]"
      ]
     },
     "execution_count": 20,
     "metadata": {},
     "output_type": "execute_result"
    }
   ],
   "source": [
    "hdas = gi.histories.show_history(history_id=hist_id, contents=True)\n",
    "hdas"
   ]
  },
  {
   "cell_type": "markdown",
   "metadata": {},
   "source": [
    "To get the details about one dataset, you can use the `datasets` controller:"
   ]
  },
  {
   "cell_type": "code",
   "execution_count": 25,
   "metadata": {},
   "outputs": [
    {
     "name": "stdout",
     "output_type": "stream",
     "text": [
      "bbd44e69cb8906b5cfdf2c899f4021a7\n"
     ]
    },
    {
     "data": {
      "text/plain": [
       "{u'accessible': True,\n",
       " u'annotation': None,\n",
       " u'api_type': u'file',\n",
       " u'create_time': u'2019-06-30T23:21:28.648313',\n",
       " u'creating_job': u'bbd44e69cb8906b5c6458d62abbfd3c5',\n",
       " u'data_type': u'galaxy.datatypes.data.Text',\n",
       " u'dataset_id': u'bbd44e69cb8906b5b8384b86fdab1170',\n",
       " u'deleted': False,\n",
       " u'display_apps': [],\n",
       " u'display_types': [],\n",
       " u'download_url': u'/api/histories/b55e810e30ea30b6/contents/bbd44e69cb8906b5cfdf2c899f4021a7/display',\n",
       " u'extension': u'txt',\n",
       " u'file_ext': u'txt',\n",
       " u'file_size': 16,\n",
       " u'genome_build': u'?',\n",
       " u'hda_ldda': u'hda',\n",
       " u'hid': 1,\n",
       " u'history_content_type': u'dataset',\n",
       " u'history_id': u'b55e810e30ea30b6',\n",
       " u'id': u'bbd44e69cb8906b5cfdf2c899f4021a7',\n",
       " u'meta_files': [],\n",
       " u'metadata_data_lines': 4,\n",
       " u'metadata_dbkey': u'?',\n",
       " u'misc_blurb': u'4 lines',\n",
       " u'misc_info': u'uploaded txt file',\n",
       " u'model_class': u'HistoryDatasetAssociation',\n",
       " u'name': u'1.txt',\n",
       " u'peek': u'<table cellspacing=\"0\" cellpadding=\"3\"><tr><td>1 a</td></tr><tr><td>2 b</td></tr><tr><td>3 c</td></tr><tr><td>4 d</td></tr></table>',\n",
       " u'purged': False,\n",
       " u'rerunnable': False,\n",
       " u'resubmitted': False,\n",
       " u'state': u'ok',\n",
       " u'tags': [],\n",
       " u'type': u'file',\n",
       " u'type_id': u'dataset-bbd44e69cb8906b5cfdf2c899f4021a7',\n",
       " u'update_time': u'2019-06-30T23:22:01.976093',\n",
       " u'url': u'/api/histories/b55e810e30ea30b6/contents/bbd44e69cb8906b5cfdf2c899f4021a7',\n",
       " u'uuid': u'4b7d8f71-a66b-4c5d-8a86-9830931e99d3',\n",
       " u'visible': True,\n",
       " u'visualizations': [{u'description': u'Cytoscape-based graph visualization plugin.',\n",
       "   u'embeddable': False,\n",
       "   u'entry_point': {u'attr': {}, u'file': u'graphviz.mako', u'type': u'mako'},\n",
       "   u'groups': None,\n",
       "   u'href': u'/plugins/visualizations/graphviz/show',\n",
       "   u'html': u'Graph Visualization',\n",
       "   u'logo': None,\n",
       "   u'name': u'graphviz',\n",
       "   u'settings': None,\n",
       "   u'specs': None,\n",
       "   u'target': u'galaxy_main',\n",
       "   u'title': None},\n",
       "  {u'description': None,\n",
       "   u'embeddable': False,\n",
       "   u'entry_point': {u'attr': {}, u'file': u'jupyter.mako', u'type': u'mako'},\n",
       "   u'groups': None,\n",
       "   u'href': u'/plugins/interactive_environments/jupyter/show',\n",
       "   u'html': u'Jupyter',\n",
       "   u'logo': None,\n",
       "   u'name': u'jupyter',\n",
       "   u'settings': None,\n",
       "   u'specs': None,\n",
       "   u'target': u'galaxy_main',\n",
       "   u'title': None},\n",
       "  {u'description': u'The MSA viewer is a modular, reusable component to visualize large MSAs interactively on the web.',\n",
       "   u'embeddable': False,\n",
       "   u'entry_point': {u'attr': {u'src': u'script.js'},\n",
       "    u'file': None,\n",
       "    u'type': u'chart'},\n",
       "   u'groups': None,\n",
       "   u'href': u'/plugins/visualizations/msa/show',\n",
       "   u'html': u'Multiple Sequence Alignment',\n",
       "   u'logo': u'./static/plugins/visualizations/msa/static/logo.png',\n",
       "   u'name': u'msa',\n",
       "   u'settings': [{u'help': u'Do you want to display a bar diagram indicating sequence conservation?',\n",
       "     u'label': u'Show conservation',\n",
       "     u'name': u'conserv',\n",
       "     u'type': u'boolean',\n",
       "     u'value': u'true'},\n",
       "    {u'help': u'Do you want to display the overview box below the sequence alignments?',\n",
       "     u'label': u'Show overview box',\n",
       "     u'name': u'overviewbox',\n",
       "     u'type': u'boolean',\n",
       "     u'value': u'true'},\n",
       "    {u'help': u'Do you want to show a menu for interactive configuration?',\n",
       "     u'label': u'Show interactive menu',\n",
       "     u'name': u'menu',\n",
       "     u'type': u'boolean',\n",
       "     u'value': u'true'}],\n",
       "   u'specs': None,\n",
       "   u'target': u'galaxy_main',\n",
       "   u'title': None}]}"
      ]
     },
     "execution_count": 25,
     "metadata": {},
     "output_type": "execute_result"
    }
   ],
   "source": [
    "hda0_id = hdas[0]['id']\n",
    "print(hda0_id)\n",
    "gi.datasets.show_dataset(hda0_id)"
   ]
  },
  {
   "cell_type": "markdown",
   "metadata": {},
   "source": [
    "To **update** a resource, use the `update_` method, e.g. to change the name of the new history:"
   ]
  },
  {
   "cell_type": "code",
   "execution_count": 26,
   "metadata": {},
   "outputs": [
    {
     "data": {
      "text/plain": [
       "{u'annotation': None,\n",
       " u'contents_url': u'/api/histories/b55e810e30ea30b6/contents',\n",
       " u'create_time': u'2019-06-28T11:19:28.472237',\n",
       " u'deleted': False,\n",
       " u'empty': False,\n",
       " u'genome_build': None,\n",
       " u'id': u'b55e810e30ea30b6',\n",
       " u'importable': False,\n",
       " u'model_class': u'History',\n",
       " u'name': u'Updated history',\n",
       " u'published': False,\n",
       " u'purged': False,\n",
       " u'size': 16,\n",
       " u'slug': None,\n",
       " u'state': u'ok',\n",
       " u'state_details': {u'discarded': 0,\n",
       "  u'empty': 0,\n",
       "  u'error': 0,\n",
       "  u'failed_metadata': 0,\n",
       "  u'new': 0,\n",
       "  u'ok': 1,\n",
       "  u'paused': 0,\n",
       "  u'queued': 0,\n",
       "  u'running': 0,\n",
       "  u'setting_metadata': 0,\n",
       "  u'upload': 0},\n",
       " u'state_ids': {u'discarded': [],\n",
       "  u'empty': [],\n",
       "  u'error': [],\n",
       "  u'failed_metadata': [],\n",
       "  u'new': [],\n",
       "  u'ok': [u'bbd44e69cb8906b5cfdf2c899f4021a7'],\n",
       "  u'paused': [],\n",
       "  u'queued': [],\n",
       "  u'running': [],\n",
       "  u'setting_metadata': [],\n",
       "  u'upload': []},\n",
       " u'tags': [],\n",
       " u'update_time': u'2019-06-30T23:23:27.012801',\n",
       " u'url': u'/api/histories/b55e810e30ea30b6',\n",
       " u'user_id': u'1c510fef372551ec',\n",
       " u'username_and_slug': None}"
      ]
     },
     "execution_count": 26,
     "metadata": {},
     "output_type": "execute_result"
    }
   ],
   "source": [
    "gi.histories.update_history(new_hist['id'], name='Updated history')"
   ]
  },
  {
   "cell_type": "markdown",
   "metadata": {},
   "source": [
    "The return value of `update_` methods is usually a dictionary with detailed info about the updated resource.\n",
    "\n",
    "Finally to **delete** a resource, use the `delete_` method, e.g.:"
   ]
  },
  {
   "cell_type": "code",
   "execution_count": 27,
   "metadata": {},
   "outputs": [
    {
     "data": {
      "text/plain": [
       "{u'annotation': None,\n",
       " u'contents_url': u'/api/histories/b55e810e30ea30b6/contents',\n",
       " u'create_time': u'2019-06-28T11:19:28.472237',\n",
       " u'deleted': True,\n",
       " u'empty': False,\n",
       " u'genome_build': None,\n",
       " u'id': u'b55e810e30ea30b6',\n",
       " u'importable': False,\n",
       " u'model_class': u'History',\n",
       " u'name': u'Updated history',\n",
       " u'published': False,\n",
       " u'purged': False,\n",
       " u'size': 16,\n",
       " u'slug': None,\n",
       " u'state': u'ok',\n",
       " u'state_details': {u'discarded': 0,\n",
       "  u'empty': 0,\n",
       "  u'error': 0,\n",
       "  u'failed_metadata': 0,\n",
       "  u'new': 0,\n",
       "  u'ok': 1,\n",
       "  u'paused': 0,\n",
       "  u'queued': 0,\n",
       "  u'running': 0,\n",
       "  u'setting_metadata': 0,\n",
       "  u'upload': 0},\n",
       " u'state_ids': {u'discarded': [],\n",
       "  u'empty': [],\n",
       "  u'error': [],\n",
       "  u'failed_metadata': [],\n",
       "  u'new': [],\n",
       "  u'ok': [u'bbd44e69cb8906b5cfdf2c899f4021a7'],\n",
       "  u'paused': [],\n",
       "  u'queued': [],\n",
       "  u'running': [],\n",
       "  u'setting_metadata': [],\n",
       "  u'upload': []},\n",
       " u'tags': [],\n",
       " u'update_time': u'2019-06-30T23:23:44.520698',\n",
       " u'url': u'/api/histories/b55e810e30ea30b6',\n",
       " u'user_id': u'1c510fef372551ec',\n",
       " u'username_and_slug': None}"
      ]
     },
     "execution_count": 27,
     "metadata": {},
     "output_type": "execute_result"
    }
   ],
   "source": [
    "gi.histories.delete_history(new_hist['id'])"
   ]
  }
 ],
 "metadata": {
  "kernelspec": {
   "display_name": "Python 2",
   "language": "python",
   "name": "python2"
  },
  "language_info": {
   "codemirror_mode": {
    "name": "ipython",
    "version": 2
   },
   "file_extension": ".py",
   "mimetype": "text/x-python",
   "name": "python",
   "nbconvert_exporter": "python",
   "pygments_lexer": "ipython2",
   "version": "2.7.15+"
  }
 },
 "nbformat": 4,
 "nbformat_minor": 1
}
