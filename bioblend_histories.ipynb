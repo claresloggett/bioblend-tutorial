{
 "metadata": {
  "name": ""
 },
 "nbformat": 3,
 "nbformat_minor": 0,
 "worksheets": [
  {
   "cells": [
    {
     "cell_type": "markdown",
     "metadata": {},
     "source": [
      "Interacting with histories in BioBlend\n",
      "======================================\n",
      "\n",
      "The user interacts with a Galaxy server through a `GalaxyInstance` object:"
     ]
    },
    {
     "cell_type": "code",
     "collapsed": false,
     "input": [
      "import bioblend.galaxy\n",
      "\n",
      "server = 'https://usegalaxy.org/'\n",
      "api_key = ''\n",
      "gi = bioblend.galaxy.GalaxyInstance(url=server, key=api_key)"
     ],
     "language": "python",
     "metadata": {},
     "outputs": [],
     "prompt_number": 1
    },
    {
     "cell_type": "markdown",
     "metadata": {},
     "source": [
      "All method calls have the format `gi.controller.method()`, e.g. the GET call to retrieve all histories owned by a user is:"
     ]
    },
    {
     "cell_type": "code",
     "collapsed": false,
     "input": [
      "gi.histories.get_histories()"
     ],
     "language": "python",
     "metadata": {},
     "outputs": [
      {
       "metadata": {},
       "output_type": "pyout",
       "prompt_number": 2,
       "text": [
        "[{u'annotation': None,\n",
        "  u'deleted': False,\n",
        "  u'id': u'153e591de2140b59',\n",
        "  u'model_class': u'History',\n",
        "  u'name': u'Unnamed history',\n",
        "  u'published': False,\n",
        "  u'purged': False,\n",
        "  u'tags': [],\n",
        "  u'url': u'/api/histories/153e591de2140b59'},\n",
        " {u'annotation': None,\n",
        "  u'deleted': False,\n",
        "  u'id': u'49e446c3d6585583',\n",
        "  u'model_class': u'History',\n",
        "  u'name': u'Unnamed history',\n",
        "  u'published': False,\n",
        "  u'purged': False,\n",
        "  u'tags': [],\n",
        "  u'url': u'/api/histories/49e446c3d6585583'}]"
       ]
      }
     ],
     "prompt_number": 2
    },
    {
     "cell_type": "markdown",
     "metadata": {},
     "source": [
      "As you can see, GET methods in BioBlend do not return JSON strings, but **deserialize** them in Python data structures. In particular, `get_` methods return a list of dictionaries.\n",
      "\n",
      "`get_` methods usually have **filtering** capabilities, e.g. it is possible to filter histories **by name**:"
     ]
    },
    {
     "cell_type": "code",
     "collapsed": false,
     "input": [
      "hists = gi.histories.get_histories(name='Unnamed history')\n",
      "hists"
     ],
     "language": "python",
     "metadata": {},
     "outputs": [
      {
       "metadata": {},
       "output_type": "pyout",
       "prompt_number": 17,
       "text": [
        "[{u'annotation': None,\n",
        "  u'deleted': False,\n",
        "  u'id': u'153e591de2140b59',\n",
        "  u'model_class': u'History',\n",
        "  u'name': u'Unnamed history',\n",
        "  u'published': False,\n",
        "  u'purged': False,\n",
        "  u'tags': [],\n",
        "  u'url': u'/api/histories/153e591de2140b59'},\n",
        " {u'annotation': None,\n",
        "  u'deleted': False,\n",
        "  u'id': u'49e446c3d6585583',\n",
        "  u'model_class': u'History',\n",
        "  u'name': u'Unnamed history',\n",
        "  u'published': False,\n",
        "  u'purged': False,\n",
        "  u'tags': [],\n",
        "  u'url': u'/api/histories/49e446c3d6585583'}]"
       ]
      }
     ],
     "prompt_number": 17
    },
    {
     "cell_type": "markdown",
     "metadata": {},
     "source": [
      "It is also possible to specify the unique **id** of the resource to retrieve, e.g.:"
     ]
    },
    {
     "cell_type": "code",
     "collapsed": false,
     "input": [
      "hist0_id = hists[0]['id']\n",
      "print hist0_id\n",
      "gi.histories.get_histories(history_id=hist0_id)"
     ],
     "language": "python",
     "metadata": {},
     "outputs": [
      {
       "output_type": "stream",
       "stream": "stdout",
       "text": [
        "153e591de2140b59\n"
       ]
      },
      {
       "metadata": {},
       "output_type": "pyout",
       "prompt_number": 13,
       "text": [
        "[{u'annotation': None,\n",
        "  u'deleted': False,\n",
        "  u'id': u'153e591de2140b59',\n",
        "  u'model_class': u'History',\n",
        "  u'name': u'Unnamed history',\n",
        "  u'published': False,\n",
        "  u'purged': False,\n",
        "  u'tags': [],\n",
        "  u'url': u'/api/histories/153e591de2140b59'}]"
       ]
      }
     ],
     "prompt_number": 13
    },
    {
     "cell_type": "markdown",
     "metadata": {},
     "source": [
      "Please note that independently of which parameters are passed to the `get_` method, it always returns a list.\n",
      "\n",
      "If you are interested in more **details** about a given resource, you can use the `show_` method, e.g. to the get more info for a history:"
     ]
    },
    {
     "cell_type": "code",
     "collapsed": false,
     "input": [
      "gi.histories.show_history(history_id=hist0_id)"
     ],
     "language": "python",
     "metadata": {},
     "outputs": [
      {
       "metadata": {},
       "output_type": "pyout",
       "prompt_number": 18,
       "text": [
        "{u'annotation': None,\n",
        " u'contents_url': u'/api/histories/153e591de2140b59/contents',\n",
        " u'create_time': u'2015-06-19T10:02:53.969620',\n",
        " u'deleted': False,\n",
        " u'empty': False,\n",
        " u'genome_build': u'?',\n",
        " u'id': u'153e591de2140b59',\n",
        " u'importable': False,\n",
        " u'model_class': u'History',\n",
        " u'name': u'Unnamed history',\n",
        " u'nice_size': u'78.9 KB',\n",
        " u'published': False,\n",
        " u'purged': False,\n",
        " u'size': 80839,\n",
        " u'slug': None,\n",
        " u'state': u'error',\n",
        " u'state_details': {u'discarded': 0,\n",
        "  u'empty': 0,\n",
        "  u'error': 1,\n",
        "  u'failed_metadata': 0,\n",
        "  u'new': 0,\n",
        "  u'ok': 2,\n",
        "  u'paused': 0,\n",
        "  u'queued': 0,\n",
        "  u'running': 0,\n",
        "  u'setting_metadata': 0,\n",
        "  u'upload': 0},\n",
        " u'state_ids': {u'discarded': [],\n",
        "  u'empty': [],\n",
        "  u'error': [u'bbd44e69cb8906b503f45dc50d66b283'],\n",
        "  u'failed_metadata': [],\n",
        "  u'new': [],\n",
        "  u'ok': [u'bbd44e69cb8906b58bced975c2813624',\n",
        "   u'bbd44e69cb8906b5e70457408d04ea9c'],\n",
        "  u'paused': [],\n",
        "  u'queued': [],\n",
        "  u'running': [],\n",
        "  u'setting_metadata': [],\n",
        "  u'upload': []},\n",
        " u'tags': [],\n",
        " u'update_time': u'2015-06-30T11:26:25.048700',\n",
        " u'url': u'/api/histories/153e591de2140b59',\n",
        " u'user_id': u'1c510fef372551ec',\n",
        " u'username_and_slug': None}"
       ]
      }
     ],
     "prompt_number": 18
    },
    {
     "cell_type": "markdown",
     "metadata": {},
     "source": [
      "To get the list of **datasets contained** in a history, simply add `contents=True` to the previous call."
     ]
    },
    {
     "cell_type": "code",
     "collapsed": false,
     "input": [
      "hdas = gi.histories.show_history(history_id=hist0_id, contents=True)\n",
      "hdas"
     ],
     "language": "python",
     "metadata": {},
     "outputs": [
      {
       "metadata": {},
       "output_type": "pyout",
       "prompt_number": 20,
       "text": [
        "[{u'dataset_id': u'bbd44e69cb8906b58136996268e6636d',\n",
        "  u'deleted': False,\n",
        "  u'extension': u'fastqsanger',\n",
        "  u'hid': 1,\n",
        "  u'history_content_type': u'dataset',\n",
        "  u'history_id': u'153e591de2140b59',\n",
        "  u'id': u'bbd44e69cb8906b58bced975c2813624',\n",
        "  u'name': u'bwa-mem-fastq1.fq',\n",
        "  u'purged': False,\n",
        "  u'state': u'ok',\n",
        "  u'type': u'file',\n",
        "  u'type_id': u'dataset-bbd44e69cb8906b58bced975c2813624',\n",
        "  u'url': u'/api/histories/153e591de2140b59/contents/bbd44e69cb8906b58bced975c2813624',\n",
        "  u'visible': True},\n",
        " {u'dataset_id': u'bbd44e69cb8906b599a64556dc6d4e4d',\n",
        "  u'deleted': False,\n",
        "  u'extension': u'fasta',\n",
        "  u'hid': 2,\n",
        "  u'history_content_type': u'dataset',\n",
        "  u'history_id': u'153e591de2140b59',\n",
        "  u'id': u'bbd44e69cb8906b5e70457408d04ea9c',\n",
        "  u'name': u'FASTQ to FASTA on data 1',\n",
        "  u'purged': False,\n",
        "  u'state': u'ok',\n",
        "  u'type': u'file',\n",
        "  u'type_id': u'dataset-bbd44e69cb8906b5e70457408d04ea9c',\n",
        "  u'url': u'/api/histories/153e591de2140b59/contents/bbd44e69cb8906b5e70457408d04ea9c',\n",
        "  u'visible': True},\n",
        " {u'dataset_id': u'bbd44e69cb8906b5572646db41e7e4be',\n",
        "  u'deleted': False,\n",
        "  u'extension': u'sam',\n",
        "  u'hid': 3,\n",
        "  u'history_content_type': u'dataset',\n",
        "  u'history_id': u'153e591de2140b59',\n",
        "  u'id': u'bbd44e69cb8906b503f45dc50d66b283',\n",
        "  u'name': u'Lastz on data 2: mapped reads',\n",
        "  u'purged': False,\n",
        "  u'state': u'error',\n",
        "  u'type': u'file',\n",
        "  u'type_id': u'dataset-bbd44e69cb8906b503f45dc50d66b283',\n",
        "  u'url': u'/api/histories/153e591de2140b59/contents/bbd44e69cb8906b503f45dc50d66b283',\n",
        "  u'visible': True}]"
       ]
      }
     ],
     "prompt_number": 20
    },
    {
     "cell_type": "markdown",
     "metadata": {},
     "source": [
      "To get the details about one datasets, you can use either the `histories` controller:"
     ]
    },
    {
     "cell_type": "code",
     "collapsed": false,
     "input": [
      "hda0_id = hdas[0]['id']\n",
      "print hda0_id\n",
      "gi.histories.show_dataset(hist0_id, hda0_id)"
     ],
     "language": "python",
     "metadata": {},
     "outputs": [
      {
       "output_type": "stream",
       "stream": "stdout",
       "text": [
        "bbd44e69cb8906b58bced975c2813624\n"
       ]
      },
      {
       "metadata": {},
       "output_type": "pyout",
       "prompt_number": 21,
       "text": [
        "{u'accessible': True,\n",
        " u'annotation': None,\n",
        " u'api_type': u'file',\n",
        " u'create_time': u'2015-06-23T14:35:29.832099',\n",
        " u'data_type': u'galaxy.datatypes.sequence.FastqSanger',\n",
        " u'dataset_id': u'bbd44e69cb8906b58136996268e6636d',\n",
        " u'deleted': False,\n",
        " u'display_apps': [],\n",
        " u'display_types': [],\n",
        " u'download_url': u'/api/histories/153e591de2140b59/contents/bbd44e69cb8906b58bced975c2813624/display',\n",
        " u'extension': u'fastqsanger',\n",
        " u'file_ext': u'fastqsanger',\n",
        " u'file_size': 55247,\n",
        " u'genome_build': u'?',\n",
        " u'hda_ldda': u'hda',\n",
        " u'hid': 1,\n",
        " u'history_content_type': u'dataset',\n",
        " u'history_id': u'153e591de2140b59',\n",
        " u'id': u'bbd44e69cb8906b58bced975c2813624',\n",
        " u'meta_files': [],\n",
        " u'metadata_data_lines': 400,\n",
        " u'metadata_dbkey': u'?',\n",
        " u'metadata_sequences': 100,\n",
        " u'misc_blurb': u'100 sequences',\n",
        " u'misc_info': u'uploaded fastq file',\n",
        " u'model_class': u'HistoryDatasetAssociation',\n",
        " u'name': u'bwa-mem-fastq1.fq',\n",
        " u'peek': u'<table cellspacing=\"0\" cellpadding=\"3\"><tr><td>@M01368:8:000000000-A3GHV:1:1101:6911:8255/1</td></tr><tr><td>ATCTGGTTCCTACTTCAGGGCCATAAAACCTAAATAGCCCACACGTTCCCCTTAAATAAGACATCACGATGGATCACAGGTCTATCACCCTATTAACCACTCACGGGAGCTCTCCATGCATTTGGTATTTTCGTCTGGGGGGTGTGCACGCGATAGCATTGCGAGACGCTGGAGCCGGAGCACCCTATGTCGCAGTATCTGTCTTTGATTCCTGCCTCATCCTATTATTTATCGCACCTACGTTCAATATT</td></tr><tr><td>+</td></tr><tr><td>BCCCCFFFFFFFGGGGGGGGGGGHHHHGHGHHHHHHHHHGGGGGGHHHHGHHHHHHHHHHGHHHHHHGGHGGHHHGHHHHFHHGHHHHHHHHHGHEHEFFGHHEGGCEFGGFHHHBGHHGHHHHGHFHHHGHGHGHGGCDFDDACGGGGGGGAAFFFFFFFFFBAFFFFFB;FFFFFFADDFFFFFFFFFFEFFFFFFFFFFBFFFFFFFFFFFFFFEFFFFFFFFBFEFFFFEFE;DFFFDFBFF/9BFB</td></tr><tr><td>@M01368:8:000000000-A3GHV:1:1101:14518:9998/1</td></tr><tr><td>GTTATTATTATGTCCTACAAGCATTAATTAATTAACACACTTTAGTAAGTATGTTCGCCTGTAATATTGAACGTAGGTGCGATAAATAATAGGATGAGGCAGGAATCAAAGACAGATACTGCGACATAGGGTGCTCCGGCTCCAGCGTCTCGCAATGCTATCGCGTGCACACCCCCCAGACGAAAATACCAAATGCATGGAGAGCTCCCGTGAGTGGTTAATAGGGGGATAGACCTGTGATCCATCGTGAT</td></tr></table>',\n",
        " u'permissions': {},\n",
        " u'purged': False,\n",
        " u'resubmitted': False,\n",
        " u'state': u'ok',\n",
        " u'tags': [],\n",
        " u'type': u'file',\n",
        " u'type_id': u'dataset-bbd44e69cb8906b58bced975c2813624',\n",
        " u'update_time': u'2015-06-23T14:40:51.433550',\n",
        " u'url': u'/api/histories/153e591de2140b59/contents/bbd44e69cb8906b58bced975c2813624',\n",
        " u'uuid': u'b7f0a37f-0134-4925-83ce-2bef7f394ce6',\n",
        " u'visible': True,\n",
        " u'visualizations': []}"
       ]
      }
     ],
     "prompt_number": 21
    },
    {
     "cell_type": "markdown",
     "metadata": {},
     "source": [
      "Or directly the `datasets` controller, without having to specify the history id:"
     ]
    },
    {
     "cell_type": "code",
     "collapsed": false,
     "input": [
      "gi.datasets.show_dataset(hda0_id)"
     ],
     "language": "python",
     "metadata": {},
     "outputs": [
      {
       "metadata": {},
       "output_type": "pyout",
       "prompt_number": 26,
       "text": [
        "{u'accessible': True,\n",
        " u'annotation': None,\n",
        " u'api_type': u'file',\n",
        " u'create_time': u'2015-06-23T14:35:29.832099',\n",
        " u'data_type': u'galaxy.datatypes.sequence.FastqSanger',\n",
        " u'dataset_id': u'bbd44e69cb8906b58136996268e6636d',\n",
        " u'deleted': False,\n",
        " u'display_apps': [],\n",
        " u'display_types': [],\n",
        " u'download_url': u'/api/histories/153e591de2140b59/contents/bbd44e69cb8906b58bced975c2813624/display',\n",
        " u'extension': u'fastqsanger',\n",
        " u'file_ext': u'fastqsanger',\n",
        " u'file_size': 55247,\n",
        " u'genome_build': u'?',\n",
        " u'hda_ldda': u'hda',\n",
        " u'hid': 1,\n",
        " u'history_content_type': u'dataset',\n",
        " u'history_id': u'153e591de2140b59',\n",
        " u'id': u'bbd44e69cb8906b58bced975c2813624',\n",
        " u'meta_files': [],\n",
        " u'metadata_data_lines': 400,\n",
        " u'metadata_dbkey': u'?',\n",
        " u'metadata_sequences': 100,\n",
        " u'misc_blurb': u'100 sequences',\n",
        " u'misc_info': u'uploaded fastq file',\n",
        " u'model_class': u'HistoryDatasetAssociation',\n",
        " u'name': u'bwa-mem-fastq1.fq',\n",
        " u'peek': u'<table cellspacing=\"0\" cellpadding=\"3\"><tr><td>@M01368:8:000000000-A3GHV:1:1101:6911:8255/1</td></tr><tr><td>ATCTGGTTCCTACTTCAGGGCCATAAAACCTAAATAGCCCACACGTTCCCCTTAAATAAGACATCACGATGGATCACAGGTCTATCACCCTATTAACCACTCACGGGAGCTCTCCATGCATTTGGTATTTTCGTCTGGGGGGTGTGCACGCGATAGCATTGCGAGACGCTGGAGCCGGAGCACCCTATGTCGCAGTATCTGTCTTTGATTCCTGCCTCATCCTATTATTTATCGCACCTACGTTCAATATT</td></tr><tr><td>+</td></tr><tr><td>BCCCCFFFFFFFGGGGGGGGGGGHHHHGHGHHHHHHHHHGGGGGGHHHHGHHHHHHHHHHGHHHHHHGGHGGHHHGHHHHFHHGHHHHHHHHHGHEHEFFGHHEGGCEFGGFHHHBGHHGHHHHGHFHHHGHGHGHGGCDFDDACGGGGGGGAAFFFFFFFFFBAFFFFFB;FFFFFFADDFFFFFFFFFFEFFFFFFFFFFBFFFFFFFFFFFFFFEFFFFFFFFBFEFFFFEFE;DFFFDFBFF/9BFB</td></tr><tr><td>@M01368:8:000000000-A3GHV:1:1101:14518:9998/1</td></tr><tr><td>GTTATTATTATGTCCTACAAGCATTAATTAATTAACACACTTTAGTAAGTATGTTCGCCTGTAATATTGAACGTAGGTGCGATAAATAATAGGATGAGGCAGGAATCAAAGACAGATACTGCGACATAGGGTGCTCCGGCTCCAGCGTCTCGCAATGCTATCGCGTGCACACCCCCCAGACGAAAATACCAAATGCATGGAGAGCTCCCGTGAGTGGTTAATAGGGGGATAGACCTGTGATCCATCGTGAT</td></tr></table>',\n",
        " u'permissions': {},\n",
        " u'purged': False,\n",
        " u'resubmitted': False,\n",
        " u'state': u'ok',\n",
        " u'tags': [],\n",
        " u'type': u'file',\n",
        " u'type_id': u'dataset-bbd44e69cb8906b58bced975c2813624',\n",
        " u'update_time': u'2015-06-23T14:40:51.433550',\n",
        " u'url': u'/api/histories/153e591de2140b59/contents/bbd44e69cb8906b58bced975c2813624',\n",
        " u'uuid': u'b7f0a37f-0134-4925-83ce-2bef7f394ce6',\n",
        " u'visible': True,\n",
        " u'visualizations': []}"
       ]
      }
     ],
     "prompt_number": 26
    },
    {
     "cell_type": "markdown",
     "metadata": {},
     "source": [
      "**New resources** are created with `create_` methods, e.g. to create a new history:"
     ]
    },
    {
     "cell_type": "code",
     "collapsed": false,
     "input": [
      "new_hist = gi.histories.create_history(name='New history')\n",
      "new_hist"
     ],
     "language": "python",
     "metadata": {},
     "outputs": [
      {
       "metadata": {},
       "output_type": "pyout",
       "prompt_number": 31,
       "text": [
        "{u'annotation': None,\n",
        " u'contents_url': u'/api/histories/5e427b4e15458850/contents',\n",
        " u'create_time': u'2015-07-01T11:24:03.697023',\n",
        " u'deleted': False,\n",
        " u'empty': True,\n",
        " u'genome_build': None,\n",
        " u'id': u'5e427b4e15458850',\n",
        " u'importable': False,\n",
        " u'model_class': u'History',\n",
        " u'name': u'New history',\n",
        " u'nice_size': u'0 bytes',\n",
        " u'published': False,\n",
        " u'purged': False,\n",
        " u'size': 0,\n",
        " u'slug': None,\n",
        " u'state': u'new',\n",
        " u'state_details': {u'discarded': 0,\n",
        "  u'empty': 0,\n",
        "  u'error': 0,\n",
        "  u'failed_metadata': 0,\n",
        "  u'new': 0,\n",
        "  u'ok': 0,\n",
        "  u'paused': 0,\n",
        "  u'queued': 0,\n",
        "  u'running': 0,\n",
        "  u'setting_metadata': 0,\n",
        "  u'upload': 0},\n",
        " u'state_ids': {u'discarded': [],\n",
        "  u'empty': [],\n",
        "  u'error': [],\n",
        "  u'failed_metadata': [],\n",
        "  u'new': [],\n",
        "  u'ok': [],\n",
        "  u'paused': [],\n",
        "  u'queued': [],\n",
        "  u'running': [],\n",
        "  u'setting_metadata': [],\n",
        "  u'upload': []},\n",
        " u'tags': [],\n",
        " u'update_time': u'2015-07-01T11:24:03.697045',\n",
        " u'url': u'/api/histories/5e427b4e15458850',\n",
        " u'user_id': u'1c510fef372551ec',\n",
        " u'username_and_slug': None}"
       ]
      }
     ],
     "prompt_number": 31
    },
    {
     "cell_type": "markdown",
     "metadata": {},
     "source": [
      "As you can see, to use POST methods in BioBlend it is **not necessary to serialize data**, you just pass them explicitly as parameters.\n",
      "\n",
      "To **update** a resource, use the `update_` method, e.g. to change the history name:"
     ]
    },
    {
     "cell_type": "code",
     "collapsed": false,
     "input": [
      "gi.histories.update_history(new_hist['id'], name='Updated history')"
     ],
     "language": "python",
     "metadata": {},
     "outputs": [
      {
       "metadata": {},
       "output_type": "pyout",
       "prompt_number": 33,
       "text": [
        "200"
       ]
      }
     ],
     "prompt_number": 33
    },
    {
     "cell_type": "markdown",
     "metadata": {},
     "source": [
      "The return value of `update_` methods is usually the HTTP status code, 200 meaning a successful update.\n",
      "\n",
      "Finally to **delete** a resource, use the `delete_` method, e.g.:"
     ]
    },
    {
     "cell_type": "code",
     "collapsed": false,
     "input": [
      "gi.histories.delete_history(new_hist['id']);"
     ],
     "language": "python",
     "metadata": {},
     "outputs": [],
     "prompt_number": 32
    }
   ],
   "metadata": {}
  }
 ]
}